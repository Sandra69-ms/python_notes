{
  "nbformat": 4,
  "nbformat_minor": 0,
  "metadata": {
    "colab": {
      "provenance": [],
      "authorship_tag": "ABX9TyMtBFe1AT+MtxFtfaSHMn4L",
      "include_colab_link": true
    },
    "kernelspec": {
      "name": "python3",
      "display_name": "Python 3"
    },
    "language_info": {
      "name": "python"
    }
  },
  "cells": [
    {
      "cell_type": "markdown",
      "metadata": {
        "id": "view-in-github",
        "colab_type": "text"
      },
      "source": [
        "<a href=\"https://colab.research.google.com/github/Sandra69-ms/python_notes/blob/main/statiscis.ipynb\" target=\"_parent\"><img src=\"https://colab.research.google.com/assets/colab-badge.svg\" alt=\"Open In Colab\"/></a>"
      ]
    },
    {
      "cell_type": "markdown",
      "source": [
        "# statistical terms\n",
        "\n",
        "\n",
        "1, mean  :Average\n",
        "\n",
        "2, meadian :middle most number\n",
        "\n",
        "3, mode\n",
        "\n",
        "4,SD\n",
        "\n",
        "5, varience\n",
        "\n",
        "6, covarience\n",
        "\n",
        "7, Quartile\n",
        "\n",
        "8, correlation\n",
        "\n",
        "9, population mean\n",
        "\n",
        "10, sample mean\n",
        "\n",
        "\n",
        "\n",
        "\n"
      ],
      "metadata": {
        "id": "a_ItkUaswv7P"
      }
    },
    {
      "cell_type": "code",
      "execution_count": null,
      "metadata": {
        "id": "WEuQpImcCjzg",
        "colab": {
          "base_uri": "https://localhost:8080/"
        },
        "outputId": "063f2d7e-2b2b-4ca2-c04e-b3c889a3e13b"
      },
      "outputs": [
        {
          "output_type": "stream",
          "name": "stdout",
          "text": [
            "6.142857142857143\n"
          ]
        }
      ],
      "source": [
        "data =[5,8,2,7,3,8,10]\n",
        "sum =0\n",
        "for i in data:\n",
        "  sum =sum + i\n",
        "mean = sum/len(data)\n",
        "print(mean)"
      ]
    },
    {
      "cell_type": "code",
      "source": [
        "data = [5,8,2,7,3,8,10]\n",
        "data_sort =sorted(data)\n",
        "print(data_sort)\n",
        "\n",
        "\n",
        "\n",
        "\n"
      ],
      "metadata": {
        "colab": {
          "base_uri": "https://localhost:8080/"
        },
        "id": "phlEvBks0Cvl",
        "outputId": "7cf29521-5d84-4c96-d950-72571620b2cb"
      },
      "execution_count": null,
      "outputs": [
        {
          "output_type": "stream",
          "name": "stdout",
          "text": [
            "[2, 3, 5, 7, 8, 8, 10]\n"
          ]
        }
      ]
    },
    {
      "cell_type": "code",
      "source": [
        "# calculate the median\n",
        "\n",
        "data.sort() # sortthe list in-place\n",
        "middle_value =len(data)//2\n",
        "if len(data) %2 != 0: # != not equalto symbol if odd direct print\n",
        "  median=data[middle_value]\n",
        "else:\n",
        "  median = (data[middle_value-1]+data[middle_value])/2\n",
        "  #acess the median element (for list of 7 elememt)\n",
        "print(median)\n",
        "\n",
        "\n"
      ],
      "metadata": {
        "colab": {
          "base_uri": "https://localhost:8080/"
        },
        "id": "IB2UpL4F4ljY",
        "outputId": "8ce43f29-d8f7-43e7-af07-f3e3ba6f929a"
      },
      "execution_count": null,
      "outputs": [
        {
          "output_type": "stream",
          "name": "stdout",
          "text": [
            "7\n"
          ]
        }
      ]
    },
    {
      "cell_type": "code",
      "source": [
        "# calculte the mode of data\n",
        "freq = {}\n",
        "for num in data:\n",
        "  if num in freq :\n",
        "    freq[num]+=1\n",
        "  else:\n",
        "    freq[num]=1\n",
        "print(freq)\n",
        "mode_list =[]\n",
        "max_freq =0\n",
        "for num, value in freq.items() :\n",
        "  if value > max_freq:\n",
        "    max_freq = value\n",
        "    mode_list =[num]\n",
        "  elif value == max_freq and  num not in mode_list:\n",
        "    mode_list.append(num)\n",
        "\n",
        "print( f\"mode{mode_list}\")\n"
      ],
      "metadata": {
        "colab": {
          "base_uri": "https://localhost:8080/"
        },
        "id": "bwU-TV2H70Vc",
        "outputId": "64d4e931-0765-49f1-cb96-250fa61d0a55"
      },
      "execution_count": null,
      "outputs": [
        {
          "output_type": "stream",
          "name": "stdout",
          "text": [
            "{5: 1, 8: 2, 2: 1, 7: 1, 3: 1, 10: 1}\n",
            "mode[8]\n"
          ]
        }
      ]
    },
    {
      "cell_type": "code",
      "source": [
        "rainfall"
      ],
      "metadata": {
        "id": "_ramBuIokSNy"
      },
      "execution_count": null,
      "outputs": []
    },
    {
      "cell_type": "markdown",
      "source": [],
      "metadata": {
        "id": "eNno2VPhkQ2R"
      }
    },
    {
      "cell_type": "markdown",
      "source": [
        "percentile"
      ],
      "metadata": {
        "id": "_h0Qi6fkF-KF"
      }
    },
    {
      "cell_type": "code",
      "source": [
        "month_data =[85,60,72,55,105,315,350,290,190,130,95,70]\n",
        "month_sort  = sorted(month_data)\n",
        "print(month_sort)\n",
        "var1= len(month_sort)//4\n",
        "var2=len(month_sort)//2\n",
        "var3 = 3*len(month_sort)//4\n",
        "                             # since there are four quatrent\n",
        "q1 =month_sort[var1-1]\n",
        "q2 = month_sort[var2-1]\n",
        "q3 =month_sort[var3-1]\n",
        "print(f\"Q1 = {q1}\")\n",
        "print(f\"Q2 = {q2}\")\n",
        "print(f\"Q3 = {q3}\")\n",
        "\n",
        "\n",
        "\n",
        "\n"
      ],
      "metadata": {
        "colab": {
          "base_uri": "https://localhost:8080/"
        },
        "id": "BoggFzpjQnbj",
        "outputId": "d409193f-7340-4816-e865-924813aefb34"
      },
      "execution_count": null,
      "outputs": [
        {
          "output_type": "stream",
          "name": "stdout",
          "text": [
            "[55, 60, 70, 72, 85, 95, 105, 130, 190, 290, 315, 350]\n",
            "Q1 = 70\n",
            "Q2 = 95\n",
            "Q3 = 190\n"
          ]
        }
      ]
    },
    {
      "cell_type": "code",
      "source": [
        "#find IQR\n",
        "iqr= q3-q1\n",
        "print(f\"IQR = {iqr}\")\n"
      ],
      "metadata": {
        "colab": {
          "base_uri": "https://localhost:8080/"
        },
        "id": "n0SHuYnpiiag",
        "outputId": "2075b7eb-f0db-4f8c-ddae-107e809c7ab7"
      },
      "execution_count": null,
      "outputs": [
        {
          "output_type": "stream",
          "name": "stdout",
          "text": [
            "IQR = 120\n"
          ]
        }
      ]
    },
    {
      "cell_type": "code",
      "source": [
        "#lower whisker and upper Whisker\n",
        "lower_whisker = q1-1.5*iqr\n",
        "print(f\"lower_wishker = {lower_whisker}\")\n",
        "upper_whisker = q3 +1.5*iqr\n",
        "print(f\"upper whisker ={upper_whisker}\")"
      ],
      "metadata": {
        "colab": {
          "base_uri": "https://localhost:8080/"
        },
        "id": "MPk_yGrBjLUK",
        "outputId": "c8181bc9-b7a7-48d8-cf0f-8fe56626c4d2"
      },
      "execution_count": null,
      "outputs": [
        {
          "output_type": "stream",
          "name": "stdout",
          "text": [
            "lower_wishker = -110.0\n",
            "upper whisker =370.0\n"
          ]
        }
      ]
    }
  ]
}